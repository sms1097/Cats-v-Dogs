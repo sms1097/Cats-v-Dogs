{
  "nbformat": 4,
  "nbformat_minor": 0,
  "metadata": {
    "kernelspec": {
      "display_name": "Python 3",
      "language": "python",
      "name": "python3"
    },
    "language_info": {
      "codemirror_mode": {
        "name": "ipython",
        "version": 3
      },
      "file_extension": ".py",
      "mimetype": "text/x-python",
      "name": "python",
      "nbconvert_exporter": "python",
      "pygments_lexer": "ipython3",
      "version": "3.7.6"
    },
    "colab": {
      "name": "Cats-vs-Dogs-Colab-checkpoint.ipynb",
      "provenance": [],
      "toc_visible": true
    },
    "accelerator": "GPU"
  },
  "cells": [
    {
      "cell_type": "markdown",
      "metadata": {
        "id": "JP_5KIIxXP1r",
        "colab_type": "text"
      },
      "source": [
        "# Training a CNN to Detect Cats and Dogs"
      ]
    },
    {
      "cell_type": "code",
      "metadata": {
        "id": "36NxBvzsXP1s",
        "colab_type": "code",
        "colab": {}
      },
      "source": [
        "import numpy as np\n",
        "import matplotlib.pyplot as plt\n",
        "import tensorflow as tf\n",
        "import os"
      ],
      "execution_count": 2,
      "outputs": []
    },
    {
      "cell_type": "markdown",
      "metadata": {
        "id": "sc4hM4vlXYe9",
        "colab_type": "text"
      },
      "source": [
        "### Import data from drive"
      ]
    },
    {
      "cell_type": "code",
      "metadata": {
        "id": "f2sUTO7nXhcw",
        "colab_type": "code",
        "colab": {
          "base_uri": "https://localhost:8080/",
          "height": 122
        },
        "outputId": "c1b0bd0b-adc0-450b-e9ee-0236b44619d5"
      },
      "source": [
        "from google.colab import drive\n",
        "drive.mount('/content/drive')"
      ],
      "execution_count": 3,
      "outputs": [
        {
          "output_type": "stream",
          "text": [
            "Go to this URL in a browser: https://accounts.google.com/o/oauth2/auth?client_id=947318989803-6bn6qk8qdgf4n4g3pfee6491hc0brc4i.apps.googleusercontent.com&redirect_uri=urn%3aietf%3awg%3aoauth%3a2.0%3aoob&response_type=code&scope=email%20https%3a%2f%2fwww.googleapis.com%2fauth%2fdocs.test%20https%3a%2f%2fwww.googleapis.com%2fauth%2fdrive%20https%3a%2f%2fwww.googleapis.com%2fauth%2fdrive.photos.readonly%20https%3a%2f%2fwww.googleapis.com%2fauth%2fpeopleapi.readonly\n",
            "\n",
            "Enter your authorization code:\n",
            "··········\n",
            "Mounted at /content/drive\n"
          ],
          "name": "stdout"
        }
      ]
    },
    {
      "cell_type": "code",
      "metadata": {
        "id": "LwJRRAmZXoWQ",
        "colab_type": "code",
        "colab": {}
      },
      "source": [
        "import zipfile\n",
        "files = [\n",
        "         'drive/My Drive/Data/train.zip',\n",
        "         'drive/My Drive/Data/test1.zip'\n",
        "]\n",
        "curr_dir = os.getcwd()\n",
        "for f in files:\n",
        "    with zipfile.ZipFile(f, 'r') as zip_ref:\n",
        "        zip_ref.extractall(curr_dir)"
      ],
      "execution_count": 4,
      "outputs": []
    },
    {
      "cell_type": "code",
      "metadata": {
        "id": "Yf-IphKTYsJP",
        "colab_type": "code",
        "colab": {
          "base_uri": "https://localhost:8080/",
          "height": 51
        },
        "outputId": "2da9b75a-1055-457d-d187-5321baf71f53"
      },
      "source": [
        "print(len(os.listdir('train')), 'training images')\n",
        "print(len(os.listdir('test1')), 'testing images')"
      ],
      "execution_count": 5,
      "outputs": [
        {
          "output_type": "stream",
          "text": [
            "25000 training images\n",
            "12500 testing images\n"
          ],
          "name": "stdout"
        }
      ]
    },
    {
      "cell_type": "markdown",
      "metadata": {
        "id": "ewTUSU4oXP1x",
        "colab_type": "text"
      },
      "source": [
        "### Create Directories to Store Data"
      ]
    },
    {
      "cell_type": "code",
      "metadata": {
        "id": "81xl_mtFXP1y",
        "colab_type": "code",
        "colab": {}
      },
      "source": [
        "try:\n",
        "    base_dir = 'data'\n",
        "\n",
        "    os.mkdir(base_dir)\n",
        "    os.mkdir(base_dir + '/training')\n",
        "    os.mkdir(base_dir + '/testing')\n",
        "    os.mkdir(base_dir + '/training/cats')\n",
        "    os.mkdir(base_dir + '/training/dogs')\n",
        "    os.mkdir(base_dir + '/testing/cats')\n",
        "    os.mkdir(base_dir + '/testing/dogs')\n",
        "except FileExistsError:\n",
        "    pass"
      ],
      "execution_count": 6,
      "outputs": []
    },
    {
      "cell_type": "markdown",
      "metadata": {
        "id": "8QJlVJi2XP15",
        "colab_type": "text"
      },
      "source": [
        "### Create function to sperate data"
      ]
    },
    {
      "cell_type": "markdown",
      "metadata": {
        "id": "FsVnYdyiXP16",
        "colab_type": "text"
      },
      "source": [
        "Split the data into training and testing directories to use tensorfow `flow_from_directory`"
      ]
    },
    {
      "cell_type": "code",
      "metadata": {
        "id": "-M5oHEJAXP18",
        "colab_type": "code",
        "colab": {}
      },
      "source": [
        "import random\n",
        "from shutil import copyfile"
      ],
      "execution_count": 7,
      "outputs": []
    },
    {
      "cell_type": "code",
      "metadata": {
        "id": "gtgiRBxbXP2C",
        "colab_type": "code",
        "colab": {}
      },
      "source": [
        "def split_data(base, training, testing, split_size=0.9):\n",
        "    def sort_cats_dogs(data):\n",
        "        dogs = []\n",
        "        cats = []\n",
        "        for datum in data:\n",
        "            if 'dog' in datum:\n",
        "                dogs.append(datum)\n",
        "\n",
        "            if 'cat' in datum:\n",
        "                cats.append(datum)\n",
        "                \n",
        "        return cats, dogs\n",
        "    \n",
        "    def fill_directories(data, training, testing, split_size):\n",
        "        train = random.sample(data, round(split_size * len(data)))\n",
        "        test = list(set(data) - set(train))\n",
        "        \n",
        "        for x in train:\n",
        "             copyfile(base + x, training + x)\n",
        "                \n",
        "        for x in test:\n",
        "             copyfile(base + x, testing + x)\n",
        "                \n",
        "\n",
        "    # Get all files into array and get rid of files that are empty\n",
        "    data = [x for x in os.listdir(base) if os.path.getsize(base + x) > 0]\n",
        "    \n",
        "    # Split into cats and dogs\n",
        "    cats, dogs = sort_cats_dogs(data)\n",
        "    \n",
        "    # Fill directories\n",
        "    fill_directories(cats, training+'/cats/', testing+'/cats/', split_size)\n",
        "    fill_directories(dogs, training+'/dogs/', testing+'/dogs/', split_size)"
      ],
      "execution_count": 8,
      "outputs": []
    },
    {
      "cell_type": "code",
      "metadata": {
        "id": "rSK4BKgjXP2J",
        "colab_type": "code",
        "colab": {}
      },
      "source": [
        "training = 'data/training'\n",
        "testing = 'data/testing'\n",
        "source = 'train/'\n",
        "\n",
        "split_data(source, training, testing)"
      ],
      "execution_count": 9,
      "outputs": []
    },
    {
      "cell_type": "code",
      "metadata": {
        "id": "UonCEFUNZ-BM",
        "colab_type": "code",
        "colab": {
          "base_uri": "https://localhost:8080/",
          "height": 85
        },
        "outputId": "c2c48142-dba3-4f4e-fcfe-c6499e1439d1"
      },
      "source": [
        "print(len(os.listdir('data/training/dogs')))\n",
        "print(len(os.listdir('data/training/cats')))\n",
        "print(len(os.listdir('data/testing/dogs')))\n",
        "print(len(os.listdir('data/testing/cats')))"
      ],
      "execution_count": 10,
      "outputs": [
        {
          "output_type": "stream",
          "text": [
            "11250\n",
            "11250\n",
            "1250\n",
            "1250\n"
          ],
          "name": "stdout"
        }
      ]
    },
    {
      "cell_type": "markdown",
      "metadata": {
        "id": "Tp-nJkkAXP2P",
        "colab_type": "text"
      },
      "source": [
        "### Define ```ImageDataGenerator```"
      ]
    },
    {
      "cell_type": "code",
      "metadata": {
        "id": "2RCYxFBTXP2Q",
        "colab_type": "code",
        "colab": {}
      },
      "source": [
        "from tensorflow.keras.preprocessing.image import ImageDataGenerator"
      ],
      "execution_count": 11,
      "outputs": []
    },
    {
      "cell_type": "code",
      "metadata": {
        "id": "mKE52mfOXP2X",
        "colab_type": "code",
        "colab": {
          "base_uri": "https://localhost:8080/",
          "height": 51
        },
        "outputId": "f370c139-385b-46f8-d750-5bb33dfe6a00"
      },
      "source": [
        "training = 'data/training/'\n",
        "testing = 'data/testing/'\n",
        "\n",
        "train_datagen = ImageDataGenerator(rescale=1./255)\n",
        "train_generator = train_datagen.flow_from_directory(\n",
        "    training,\n",
        "    target_size=(150,150),\n",
        "    batch_size=10,\n",
        "    class_mode='binary'\n",
        ")\n",
        "\n",
        "validation_datagen = ImageDataGenerator(rescale=1./255)\n",
        "validation_generator = validation_datagen.flow_from_directory(\n",
        "    testing,\n",
        "    target_size=(150,150),\n",
        "    batch_size=10,\n",
        "    class_mode='binary'\n",
        ")"
      ],
      "execution_count": 12,
      "outputs": [
        {
          "output_type": "stream",
          "text": [
            "Found 22500 images belonging to 2 classes.\n",
            "Found 2500 images belonging to 2 classes.\n"
          ],
          "name": "stdout"
        }
      ]
    },
    {
      "cell_type": "markdown",
      "metadata": {
        "id": "PnswOoR0XP2c",
        "colab_type": "text"
      },
      "source": [
        "### Define the CNN"
      ]
    },
    {
      "cell_type": "code",
      "metadata": {
        "id": "shhY3vGkXP2e",
        "colab_type": "code",
        "colab": {}
      },
      "source": [
        "model = tf.keras.models.Sequential([\n",
        "    tf.keras.layers.Conv2D(16, (3,3), activation='relu', input_shape=(150,150,3)),\n",
        "    tf.keras.layers.MaxPooling2D(2,2),\n",
        "    tf.keras.layers.Conv2D(32, (3,3), activation='relu'),\n",
        "    tf.keras.layers.MaxPooling2D(2,2),\n",
        "    tf.keras.layers.Conv2D(64, (3,3), activation='relu'),\n",
        "    tf.keras.layers.MaxPooling2D(2,2),\n",
        "    tf.keras.layers.Conv2D(64, (3,3), activation='relu'),\n",
        "    tf.keras.layers.MaxPooling2D(2,2),\n",
        "    tf.keras.layers.Conv2D(64, (3,3), activation='relu'),\n",
        "    tf.keras.layers.MaxPooling2D(2,2),\n",
        "    tf.keras.layers.Flatten(input_shape=(150,150,3)),\n",
        "    tf.keras.layers.Dense(150, activation='relu'),\n",
        "    tf.keras.layers.Dense(1, activation='sigmoid')\n",
        "])\n",
        "\n",
        "model.compile(optimizer='adam', loss='binary_crossentropy', metrics=['acc'])"
      ],
      "execution_count": 13,
      "outputs": []
    },
    {
      "cell_type": "code",
      "metadata": {
        "id": "O70z8ejFXP2j",
        "colab_type": "code",
        "colab": {}
      },
      "source": [
        "# model.summary()"
      ],
      "execution_count": 14,
      "outputs": []
    },
    {
      "cell_type": "markdown",
      "metadata": {
        "id": "I_RxKfsZXP2o",
        "colab_type": "text"
      },
      "source": [
        "### Train Model"
      ]
    },
    {
      "cell_type": "code",
      "metadata": {
        "id": "Ejhotqoq0NMH",
        "colab_type": "code",
        "colab": {}
      },
      "source": [
        "class overfitCallback(tf.keras.callbacks.Callback):\n",
        "    def on_epoch_end(self, epoch, logs={}):\n",
        "        if logs['acc'] > 0.95:\n",
        "            print('Model may be starting to overfit so cancelling training')\n",
        "            self.model.stop_training = True"
      ],
      "execution_count": 21,
      "outputs": []
    },
    {
      "cell_type": "code",
      "metadata": {
        "id": "CHB53rElXP2p",
        "colab_type": "code",
        "colab": {
          "base_uri": "https://localhost:8080/",
          "height": 340
        },
        "outputId": "482fb6aa-6179-46a8-d28b-e4e7d6155338"
      },
      "source": [
        "callback = overfitCallback()\n",
        "history = model.fit(train_generator, \n",
        "                    validation_data=validation_generator,\n",
        "                    callbacks=[callback],\n",
        "                    epochs=15)"
      ],
      "execution_count": 22,
      "outputs": [
        {
          "output_type": "stream",
          "text": [
            "Epoch 1/15\n",
            "2250/2250 [==============================] - 70s 31ms/step - loss: 0.2814 - acc: 0.8752 - val_loss: 0.3191 - val_acc: 0.8720\n",
            "Epoch 2/15\n",
            "2250/2250 [==============================] - 71s 32ms/step - loss: 0.2521 - acc: 0.8926 - val_loss: 0.3133 - val_acc: 0.8704\n",
            "Epoch 3/15\n",
            "2250/2250 [==============================] - 71s 32ms/step - loss: 0.2197 - acc: 0.9055 - val_loss: 0.3470 - val_acc: 0.8648\n",
            "Epoch 4/15\n",
            "2250/2250 [==============================] - 71s 32ms/step - loss: 0.1952 - acc: 0.9197 - val_loss: 0.3151 - val_acc: 0.8800\n",
            "Epoch 5/15\n",
            "2250/2250 [==============================] - 71s 32ms/step - loss: 0.1732 - acc: 0.9260 - val_loss: 0.4122 - val_acc: 0.8580\n",
            "Epoch 6/15\n",
            "2250/2250 [==============================] - 71s 32ms/step - loss: 0.1601 - acc: 0.9347 - val_loss: 0.3195 - val_acc: 0.8816\n",
            "Epoch 7/15\n",
            "2250/2250 [==============================] - 71s 32ms/step - loss: 0.1402 - acc: 0.9426 - val_loss: 0.3314 - val_acc: 0.8872\n",
            "Epoch 8/15\n",
            "2250/2250 [==============================] - 70s 31ms/step - loss: 0.1317 - acc: 0.9455 - val_loss: 0.3247 - val_acc: 0.8844\n",
            "Epoch 9/15\n",
            "2249/2250 [============================>.] - ETA: 0s - loss: 0.1190 - acc: 0.9518Model may be starting to overfit so cancelling training\n",
            "2250/2250 [==============================] - 75s 33ms/step - loss: 0.1190 - acc: 0.9518 - val_loss: 0.3755 - val_acc: 0.8728\n"
          ],
          "name": "stdout"
        }
      ]
    },
    {
      "cell_type": "code",
      "metadata": {
        "id": "44sco8QTbfIl",
        "colab_type": "code",
        "colab": {
          "base_uri": "https://localhost:8080/",
          "height": 51
        },
        "outputId": "43b8961e-a2d5-46ec-c1b3-8331e2281d0b"
      },
      "source": [
        "model.evaluate(validation_generator)"
      ],
      "execution_count": 25,
      "outputs": [
        {
          "output_type": "stream",
          "text": [
            "250/250 [==============================] - 7s 27ms/step - loss: 0.3755 - acc: 0.8728\n"
          ],
          "name": "stdout"
        },
        {
          "output_type": "execute_result",
          "data": {
            "text/plain": [
              "[0.37554046511650085, 0.8727999925613403]"
            ]
          },
          "metadata": {
            "tags": []
          },
          "execution_count": 25
        }
      ]
    },
    {
      "cell_type": "markdown",
      "metadata": {
        "id": "T90czKCdddZz",
        "colab_type": "text"
      },
      "source": [
        "### Plots to see how the model is doing"
      ]
    },
    {
      "cell_type": "code",
      "metadata": {
        "id": "iolfhGYpdUmQ",
        "colab_type": "code",
        "colab": {
          "base_uri": "https://localhost:8080/",
          "height": 296
        },
        "outputId": "47f22504-cf1d-4277-c1d0-e14d21375b69"
      },
      "source": [
        "plt.plot(history.history['acc'], label='Test Accuracy')\n",
        "plt.plot(history.history['val_acc'], label='Validation Accuracy')\n",
        "plt.xlabel('Epochs')\n",
        "plt.ylabel('Accuracy')\n",
        "plt.legend(loc='lower right')"
      ],
      "execution_count": 23,
      "outputs": [
        {
          "output_type": "execute_result",
          "data": {
            "text/plain": [
              "<matplotlib.legend.Legend at 0x7f1a00861e48>"
            ]
          },
          "metadata": {
            "tags": []
          },
          "execution_count": 23
        },
        {
          "output_type": "display_data",
          "data": {
            "image/png": "[encoded data removed]",
            "text/plain": [
              "<Figure size 432x288 with 1 Axes>"
            ]
          },
          "metadata": {
            "tags": [],
            "needs_background": "light"
          }
        }
      ]
    },
    {
      "cell_type": "code",
      "metadata": {
        "id": "3aRH790Exqnz",
        "colab_type": "code",
        "colab": {
          "base_uri": "https://localhost:8080/",
          "height": 296
        },
        "outputId": "6c728a67-3bb7-4d7f-d628-66cdbb21ad76"
      },
      "source": [
        "plt.plot(history.history['loss'], label='Test Loss')\n",
        "plt.plot(history.history['val_loss'], label='Validation Loss')\n",
        "plt.xlabel('Epochs')\n",
        "plt.ylabel('Loss')\n",
        "plt.legend(loc='lower right')"
      ],
      "execution_count": 24,
      "outputs": [
        {
          "output_type": "execute_result",
          "data": {
            "text/plain": [
              "<matplotlib.legend.Legend at 0x7f1a007d9748>"
            ]
          },
          "metadata": {
            "tags": []
          },
          "execution_count": 24
        },
        {
          "output_type": "display_data",
          "data": {
            "image/png": "[encoded data removed]",
            "text/plain": [
              "<Figure size 432x288 with 1 Axes>"
            ]
          },
          "metadata": {
            "tags": [],
            "needs_background": "light"
          }
        }
      ]
    }
  ]
}