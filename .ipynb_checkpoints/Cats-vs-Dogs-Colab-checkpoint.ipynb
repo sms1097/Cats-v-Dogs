{
  "nbformat": 4,
  "nbformat_minor": 0,
  "metadata": {
    "kernelspec": {
      "display_name": "Python 3",
      "language": "python",
      "name": "python3"
    },
    "language_info": {
      "codemirror_mode": {
        "name": "ipython",
        "version": 3
      },
      "file_extension": ".py",
      "mimetype": "text/x-python",
      "name": "python",
      "nbconvert_exporter": "python",
      "pygments_lexer": "ipython3",
      "version": "3.7.6"
    },
    "colab": {
      "name": "Cats-vs-Dogs-Colab-checkpoint.ipynb",
      "provenance": [],
      "toc_visible": true
    },
    "accelerator": "GPU"
  },
  "cells": [
    {
      "cell_type": "markdown",
      "metadata": {
        "id": "JP_5KIIxXP1r",
        "colab_type": "text"
      },
      "source": [
        "# Training a CNN to Detect Cats and Dogs"
      ]
    },
    {
      "cell_type": "code",
      "metadata": {
        "id": "36NxBvzsXP1s",
        "colab_type": "code",
        "colab": {}
      },
      "source": [
        "import numpy as np\n",
        "import matplotlib.pyplot as plt\n",
        "import tensorflow as tf\n",
        "import os"
      ],
      "execution_count": 1,
      "outputs": []
    },
    {
      "cell_type": "markdown",
      "metadata": {
        "id": "sc4hM4vlXYe9",
        "colab_type": "text"
      },
      "source": [
        "### Import data from drive"
      ]
    },
    {
      "cell_type": "code",
      "metadata": {
        "id": "f2sUTO7nXhcw",
        "colab_type": "code",
        "colab": {
          "base_uri": "https://localhost:8080/",
          "height": 122
        },
        "outputId": "f906914a-bf5a-4125-cbe5-4b655ec5bb49"
      },
      "source": [
        "from google.colab import drive\n",
        "drive.mount('/content/drive')"
      ],
      "execution_count": 2,
      "outputs": [
        {
          "output_type": "stream",
          "text": [
            "Go to this URL in a browser: https://accounts.google.com/o/oauth2/auth?client_id=947318989803-6bn6qk8qdgf4n4g3pfee6491hc0brc4i.apps.googleusercontent.com&redirect_uri=urn%3aietf%3awg%3aoauth%3a2.0%3aoob&response_type=code&scope=email%20https%3a%2f%2fwww.googleapis.com%2fauth%2fdocs.test%20https%3a%2f%2fwww.googleapis.com%2fauth%2fdrive%20https%3a%2f%2fwww.googleapis.com%2fauth%2fdrive.photos.readonly%20https%3a%2f%2fwww.googleapis.com%2fauth%2fpeopleapi.readonly\n",
            "\n",
            "Enter your authorization code:\n",
            "··········\n",
            "Mounted at /content/drive\n"
          ],
          "name": "stdout"
        }
      ]
    },
    {
      "cell_type": "code",
      "metadata": {
        "id": "LwJRRAmZXoWQ",
        "colab_type": "code",
        "colab": {}
      },
      "source": [
        "import zipfile\n",
        "files = [\n",
        "         'drive/My Drive/Data/train.zip',\n",
        "         'drive/My Drive/Data/test1.zip'\n",
        "]\n",
        "curr_dir = os.getcwd()\n",
        "for f in files:\n",
        "    with zipfile.ZipFile(f, 'r') as zip_ref:\n",
        "        zip_ref.extractall(curr_dir)"
      ],
      "execution_count": 3,
      "outputs": []
    },
    {
      "cell_type": "code",
      "metadata": {
        "id": "Yf-IphKTYsJP",
        "colab_type": "code",
        "colab": {
          "base_uri": "https://localhost:8080/",
          "height": 51
        },
        "outputId": "aee16e54-b532-4661-d6a8-6c247b74bb37"
      },
      "source": [
        "print(len(os.listdir('train')), 'training images')\n",
        "print(len(os.listdir('test1')), 'testing images')"
      ],
      "execution_count": 4,
      "outputs": [
        {
          "output_type": "stream",
          "text": [
            "25000 training images\n",
            "12500 testing images\n"
          ],
          "name": "stdout"
        }
      ]
    },
    {
      "cell_type": "markdown",
      "metadata": {
        "id": "ewTUSU4oXP1x",
        "colab_type": "text"
      },
      "source": [
        "### Create Directories to Store Data"
      ]
    },
    {
      "cell_type": "code",
      "metadata": {
        "id": "81xl_mtFXP1y",
        "colab_type": "code",
        "colab": {}
      },
      "source": [
        "try:\n",
        "    base_dir = 'data'\n",
        "\n",
        "    os.mkdir(base_dir)\n",
        "    os.mkdir(base_dir + '/training')\n",
        "    os.mkdir(base_dir + '/testing')\n",
        "    os.mkdir(base_dir + '/training/cats')\n",
        "    os.mkdir(base_dir + '/training/dogs')\n",
        "    os.mkdir(base_dir + '/testing/cats')\n",
        "    os.mkdir(base_dir + '/testing/dogs')\n",
        "except FileExistsError:\n",
        "    pass"
      ],
      "execution_count": 5,
      "outputs": []
    },
    {
      "cell_type": "markdown",
      "metadata": {
        "id": "8QJlVJi2XP15",
        "colab_type": "text"
      },
      "source": [
        "### Create function to sperate data"
      ]
    },
    {
      "cell_type": "markdown",
      "metadata": {
        "id": "FsVnYdyiXP16",
        "colab_type": "text"
      },
      "source": [
        "Split the data into training and testing directories to use tensorfow `flow_from_directory`"
      ]
    },
    {
      "cell_type": "code",
      "metadata": {
        "id": "-M5oHEJAXP18",
        "colab_type": "code",
        "colab": {}
      },
      "source": [
        "import random\n",
        "from shutil import copyfile"
      ],
      "execution_count": 6,
      "outputs": []
    },
    {
      "cell_type": "code",
      "metadata": {
        "id": "gtgiRBxbXP2C",
        "colab_type": "code",
        "colab": {}
      },
      "source": [
        "def split_data(base, training, testing, split_size=0.9):\n",
        "    def sort_cats_dogs(data):\n",
        "        dogs = []\n",
        "        cats = []\n",
        "        for datum in data:\n",
        "            if 'dog' in datum:\n",
        "                dogs.append(datum)\n",
        "\n",
        "            if 'cat' in datum:\n",
        "                cats.append(datum)\n",
        "                \n",
        "        return cats, dogs\n",
        "    \n",
        "    def fill_directories(data, training, testing, split_size):\n",
        "        train = random.sample(data, round(split_size * len(data)))\n",
        "        test = list(set(data) - set(train))\n",
        "        \n",
        "        for x in train:\n",
        "             copyfile(base + x, training + x)\n",
        "                \n",
        "        for x in test:\n",
        "             copyfile(base + x, testing + x)\n",
        "                \n",
        "\n",
        "    # Get all files into array and get rid of files that are empty\n",
        "    data = [x for x in os.listdir(base) if os.path.getsize(base + x) > 0]\n",
        "    \n",
        "    # Split into cats and dogs\n",
        "    cats, dogs = sort_cats_dogs(data)\n",
        "    \n",
        "    # Fill directories\n",
        "    fill_directories(cats, training+'/cats/', testing+'/cats/', split_size)\n",
        "    fill_directories(dogs, training+'/dogs/', testing+'/dogs/', split_size)"
      ],
      "execution_count": 7,
      "outputs": []
    },
    {
      "cell_type": "code",
      "metadata": {
        "id": "rSK4BKgjXP2J",
        "colab_type": "code",
        "colab": {}
      },
      "source": [
        "training = 'data/training'\n",
        "testing = 'data/testing'\n",
        "source = 'train/'\n",
        "\n",
        "split_data(source, training, testing)"
      ],
      "execution_count": 8,
      "outputs": []
    },
    {
      "cell_type": "code",
      "metadata": {
        "id": "UonCEFUNZ-BM",
        "colab_type": "code",
        "colab": {
          "base_uri": "https://localhost:8080/",
          "height": 85
        },
        "outputId": "4882ee71-0164-4c25-dd62-be84b5681d95"
      },
      "source": [
        "print(len(os.listdir('data/training/dogs')))\n",
        "print(len(os.listdir('data/training/cats')))\n",
        "print(len(os.listdir('data/testing/dogs')))\n",
        "print(len(os.listdir('data/testing/cats')))"
      ],
      "execution_count": 9,
      "outputs": [
        {
          "output_type": "stream",
          "text": [
            "11250\n",
            "11250\n",
            "1250\n",
            "1250\n"
          ],
          "name": "stdout"
        }
      ]
    },
    {
      "cell_type": "markdown",
      "metadata": {
        "id": "Tp-nJkkAXP2P",
        "colab_type": "text"
      },
      "source": [
        "### Define ```ImageDataGenerator```"
      ]
    },
    {
      "cell_type": "code",
      "metadata": {
        "id": "2RCYxFBTXP2Q",
        "colab_type": "code",
        "colab": {}
      },
      "source": [
        "from tensorflow.keras.preprocessing.image import ImageDataGenerator"
      ],
      "execution_count": 10,
      "outputs": []
    },
    {
      "cell_type": "code",
      "metadata": {
        "id": "mKE52mfOXP2X",
        "colab_type": "code",
        "colab": {
          "base_uri": "https://localhost:8080/",
          "height": 51
        },
        "outputId": "6273602d-eb93-48d0-c505-0c3d2ff0195a"
      },
      "source": [
        "training = 'data/training/'\n",
        "testing = 'data/testing/'\n",
        "\n",
        "train_datagen = ImageDataGenerator(rescale=1./255)\n",
        "train_generator = train_datagen.flow_from_directory(\n",
        "    training,\n",
        "    target_size=(150,150),\n",
        "    batch_size=10,\n",
        "    class_mode='binary'\n",
        ")\n",
        "\n",
        "validation_datagen = ImageDataGenerator(rescale=1./255)\n",
        "validation_generator = validation_datagen.flow_from_directory(\n",
        "    testing,\n",
        "    target_size=(150,150),\n",
        "    batch_size=10,\n",
        "    class_mode='binary'\n",
        ")"
      ],
      "execution_count": 31,
      "outputs": [
        {
          "output_type": "stream",
          "text": [
            "Found 22500 images belonging to 2 classes.\n",
            "Found 2500 images belonging to 2 classes.\n"
          ],
          "name": "stdout"
        }
      ]
    },
    {
      "cell_type": "markdown",
      "metadata": {
        "id": "PnswOoR0XP2c",
        "colab_type": "text"
      },
      "source": [
        "### Define the CNN"
      ]
    },
    {
      "cell_type": "code",
      "metadata": {
        "id": "shhY3vGkXP2e",
        "colab_type": "code",
        "colab": {}
      },
      "source": [
        "model = tf.keras.models.Sequential([\n",
        "    tf.keras.layers.Conv2D(16, (3,3), activation='relu', input_shape=(150,150,3)),\n",
        "    tf.keras.layers.MaxPooling2D(2,2),\n",
        "    tf.keras.layers.Conv2D(32, (3,3), activation='relu'),\n",
        "    tf.keras.layers.MaxPooling2D(2,2),\n",
        "    tf.keras.layers.Conv2D(64, (3,3), activation='relu'),\n",
        "    tf.keras.layers.MaxPooling2D(2,2),\n",
        "    tf.keras.layers.Conv2D(64, (3,3), activation='relu'),\n",
        "    tf.keras.layers.MaxPooling2D(2,2),\n",
        "    tf.keras.layers.Conv2D(64, (3,3), activation='relu'),\n",
        "    tf.keras.layers.MaxPooling2D(2,2),\n",
        "    tf.keras.layers.Flatten(input_shape=(150,150,3)),\n",
        "    tf.keras.layers.Dense(150, activation='relu'),\n",
        "    tf.keras.layers.Dense(1, activation='sigmoid')\n",
        "])\n",
        "\n",
        "model.compile(optimizer='adam', loss='binary_crossentropy', metrics=['acc'])"
      ],
      "execution_count": 32,
      "outputs": []
    },
    {
      "cell_type": "code",
      "metadata": {
        "id": "O70z8ejFXP2j",
        "colab_type": "code",
        "colab": {}
      },
      "source": [
        "# model.summary()"
      ],
      "execution_count": 27,
      "outputs": []
    },
    {
      "cell_type": "markdown",
      "metadata": {
        "id": "I_RxKfsZXP2o",
        "colab_type": "text"
      },
      "source": [
        "### Train Model"
      ]
    },
    {
      "cell_type": "code",
      "metadata": {
        "id": "CHB53rElXP2p",
        "colab_type": "code",
        "colab": {
          "base_uri": "https://localhost:8080/",
          "height": 289
        },
        "outputId": "b9e8462f-fa31-418c-accb-7827b78852b7"
      },
      "source": [
        "history = model.fit(train_generator, \n",
        "                    validation_data=validation_generator,\n",
        "                    epochs=20)"
      ],
      "execution_count": null,
      "outputs": [
        {
          "output_type": "stream",
          "text": [
            "Epoch 1/20\n",
            "2250/2250 [==============================] - 91s 41ms/step - loss: 0.2407 - acc: 0.8961 - val_loss: 0.3143 - val_acc: 0.8752\n",
            "Epoch 2/20\n",
            "2250/2250 [==============================] - 91s 41ms/step - loss: 0.2097 - acc: 0.9116 - val_loss: 0.2742 - val_acc: 0.8856\n",
            "Epoch 3/20\n",
            "2250/2250 [==============================] - 91s 40ms/step - loss: 0.1893 - acc: 0.9200 - val_loss: 0.2902 - val_acc: 0.8796\n",
            "Epoch 4/20\n",
            "2250/2250 [==============================] - 90s 40ms/step - loss: 0.1642 - acc: 0.9313 - val_loss: 0.3007 - val_acc: 0.8788\n",
            "Epoch 5/20\n",
            "2250/2250 [==============================] - 91s 40ms/step - loss: 0.1468 - acc: 0.9400 - val_loss: 0.2957 - val_acc: 0.8828\n",
            "Epoch 6/20\n",
            "2250/2250 [==============================] - 90s 40ms/step - loss: 0.1322 - acc: 0.9480 - val_loss: 0.2944 - val_acc: 0.8904\n",
            "Epoch 7/20\n",
            "2250/2250 [==============================] - 90s 40ms/step - loss: 0.1133 - acc: 0.9556 - val_loss: 0.3260 - val_acc: 0.8848\n",
            "Epoch 8/20\n",
            "1217/2250 [===============>..............] - ETA: 37s - loss: 0.0961 - acc: 0.9625"
          ],
          "name": "stdout"
        }
      ]
    },
    {
      "cell_type": "code",
      "metadata": {
        "id": "44sco8QTbfIl",
        "colab_type": "code",
        "colab": {
          "base_uri": "https://localhost:8080/",
          "height": 51
        },
        "outputId": "aa9c604b-27fa-404c-e407-e5d9e9e31fbe"
      },
      "source": [
        "model.evaluate(test_generator)"
      ],
      "execution_count": 36,
      "outputs": [
        {
          "output_type": "stream",
          "text": [
            "250/250 [==============================] - 8s 33ms/step - loss: 0.2923 - acc: 0.8768\n"
          ],
          "name": "stdout"
        },
        {
          "output_type": "execute_result",
          "data": {
            "text/plain": [
              "[0.29234814643859863, 0.876800000667572]"
            ]
          },
          "metadata": {
            "tags": []
          },
          "execution_count": 36
        }
      ]
    },
    {
      "cell_type": "markdown",
      "metadata": {
        "id": "T90czKCdddZz",
        "colab_type": "text"
      },
      "source": [
        "### Plots to see how the model is doing"
      ]
    },
    {
      "cell_type": "code",
      "metadata": {
        "id": "iolfhGYpdUmQ",
        "colab_type": "code",
        "colab": {
          "base_uri": "https://localhost:8080/",
          "height": 296
        },
        "outputId": "30dabafa-3296-40d1-e3ac-ef9aa1834f88"
      },
      "source": [
        "plt.plot(history.history['acc'], label='Test Accuracy')\n",
        "plt.plot(history.history['val_acc'], label='Validation Accuracy')\n",
        "plt.xlabel('Epochs')\n",
        "plt.ylabel('Accuracy')\n",
        "plt.legend(loc='lower right')"
      ],
      "execution_count": 39,
      "outputs": [
        {
          "output_type": "execute_result",
          "data": {
            "text/plain": [
              "<matplotlib.legend.Legend at 0x7f1a88153780>"
            ]
          },
          "metadata": {
            "tags": []
          },
          "execution_count": 39
        },
        {
          "output_type": "display_data",
          "data": {
            "image/png": "[encoded data removed]",
            "text/plain": [
              "<Figure size 432x288 with 1 Axes>"
            ]
          },
          "metadata": {
            "tags": [],
            "needs_background": "light"
          }
        }
      ]
    }
  ]
}