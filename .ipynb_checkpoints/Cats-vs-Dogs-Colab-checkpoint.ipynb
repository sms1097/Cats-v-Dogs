{
 "cells": [
  {
   "cell_type": "markdown",
   "metadata": {},
   "source": [
    "# Training a CNN to Detect Cats and Dogs"
   ]
  },
  {
   "cell_type": "code",
   "execution_count": null,
   "metadata": {},
   "outputs": [],
   "source": [
    "import tensorflow as tf"
   ]
  },
  {
   "cell_type": "code",
   "execution_count": 4,
   "metadata": {},
   "outputs": [],
   "source": [
    "import numpy as np\n",
    "import matplotlib.pyplot as plt\n",
    "import tensorflow as tf\n",
    "import os"
   ]
  },
  {
   "cell_type": "markdown",
   "metadata": {},
   "source": [
    "### Create Directories to Store Data"
   ]
  },
  {
   "cell_type": "code",
   "execution_count": 5,
   "metadata": {},
   "outputs": [],
   "source": [
    "try:\n",
    "    base_dir = 'data'\n",
    "\n",
    "    os.mkdir(base_dir)\n",
    "    os.mkdir(base_dir + '/training')\n",
    "    os.mkdir(base_dir + '/testing')\n",
    "    os.mkdir(base_dir + '/training/cats')\n",
    "    os.mkdir(base_dir + '/training/dogs')\n",
    "    os.mkdir(base_dir + '/testing/cats')\n",
    "    os.mkdir(base_dir + '/testing/dogs')\n",
    "except FileExistsError:\n",
    "    pass"
   ]
  },
  {
   "cell_type": "markdown",
   "metadata": {},
   "source": [
    "### Create function to sperate data"
   ]
  },
  {
   "cell_type": "markdown",
   "metadata": {},
   "source": [
    "Split the data into training and testing directories to use tensorfow `flow_from_directory`"
   ]
  },
  {
   "cell_type": "code",
   "execution_count": 6,
   "metadata": {},
   "outputs": [],
   "source": [
    "import random\n",
    "from shutil import copyfile"
   ]
  },
  {
   "cell_type": "code",
   "execution_count": 7,
   "metadata": {},
   "outputs": [],
   "source": [
    "def split_data(base, training, testing, split_size=0.9):\n",
    "    def sort_cats_dogs(data):\n",
    "        dogs = []\n",
    "        cats = []\n",
    "        for datum in data:\n",
    "            if 'dog' in datum:\n",
    "                dogs.append(datum)\n",
    "\n",
    "            if 'cat' in datum:\n",
    "                cats.append(datum)\n",
    "                \n",
    "        return cats, dogs\n",
    "    \n",
    "    def fill_directories(data, training, testing, split_size):\n",
    "        train = random.sample(data, round(split_size * len(data)))\n",
    "        test = list(set(data) - set(train))\n",
    "        \n",
    "        for x in train:\n",
    "             copyfile(base + x, training + x)\n",
    "                \n",
    "        for x in test:\n",
    "             copyfile(base + x, testing + x)\n",
    "                \n",
    "            \n",
    "    # Get all files into array and get rid of files that are empty\n",
    "    data = [x for x in os.listdir(base) if os.path.getsize(base + x) > 0]\n",
    "    \n",
    "    # Split into cats and dogs\n",
    "    cats, dogs = sort_cats_dogs(data)\n",
    "    \n",
    "    # Fill directories\n",
    "    fill_directories(cats, training+'/cats/', testing+'/cats/', split_size)\n",
    "    fill_directories(dogs, training+'/dogs/', testing+'/dogs/', split_size)"
   ]
  },
  {
   "cell_type": "code",
   "execution_count": 8,
   "metadata": {},
   "outputs": [],
   "source": [
    "training = 'data/training'\n",
    "testing = 'data/testing'\n",
    "source = 'train/'\n",
    "\n",
    "split_data(source, training, testing)"
   ]
  },
  {
   "cell_type": "markdown",
   "metadata": {},
   "source": [
    "### Define ```ImageDataGenerator```"
   ]
  },
  {
   "cell_type": "code",
   "execution_count": 9,
   "metadata": {},
   "outputs": [],
   "source": [
    "from tensorflow.keras.preprocessing.image import ImageDataGenerator"
   ]
  },
  {
   "cell_type": "code",
   "execution_count": 10,
   "metadata": {},
   "outputs": [
    {
     "name": "stdout",
     "output_type": "stream",
     "text": [
      "Found 22500 images belonging to 2 classes.\n",
      "Found 2500 images belonging to 2 classes.\n"
     ]
    }
   ],
   "source": [
    "training = 'data/training/'\n",
    "testing = 'data/testing/'\n",
    "\n",
    "train_datagen = ImageDataGenerator(rescale=1./255)\n",
    "train_generator = train_datagen.flow_from_directory(\n",
    "    training,\n",
    "    target_size=(150,150),\n",
    "    batch_size=10,\n",
    "    class_mode='binary'\n",
    ")\n",
    "\n",
    "test_datagen = ImageDataGenerator(rescale=1./255)\n",
    "train_generator = test_datagen.flow_from_directory(\n",
    "    testing,\n",
    "    target_size=(150,150),\n",
    "    batch_size=10,\n",
    "    class_mode='binary'\n",
    ")"
   ]
  },
  {
   "cell_type": "markdown",
   "metadata": {},
   "source": [
    "### Define the CNN"
   ]
  },
  {
   "cell_type": "code",
   "execution_count": 22,
   "metadata": {},
   "outputs": [],
   "source": [
    "model = tf.keras.models.Sequential([\n",
    "#     tf.keras.layers.Conv2D(16, (3,3), activation='relu', input_shape=(150,150,3)),\n",
    "#     tf.keras.layers.MaxPooling2D(2,2),\n",
    "#     tf.keras.layers.Conv2D(32, (3,3), activation='relu'),\n",
    "#     tf.keras.layers.MaxPooling2D(2,2),\n",
    "#     tf.keras.layers.Conv2D(64, (3,3), activation='relu'),\n",
    "#     tf.keras.layers.MaxPooling2D(2,2),\n",
    "#     tf.keras.layers.Conv2D(64, (3,3), activation='relu'),\n",
    "#     tf.keras.layers.MaxPooling2D(2,2),\n",
    "#     tf.keras.layers.Conv2D(64, (3,3), activation='relu'),\n",
    "#     tf.keras.layers.MaxPooling2D(2,2),\n",
    "    tf.keras.layers.Flatten(input_shape=(150,150,3)),\n",
    "    tf.keras.layers.Dense(150, activation='relu'),\n",
    "    tf.keras.layers.Dense(1, activation='sigmoid')\n",
    "])\n",
    "\n",
    "model.compile(optimizer='adam', loss='binary_crossentropy', metrics=['acc'])"
   ]
  },
  {
   "cell_type": "code",
   "execution_count": 23,
   "metadata": {},
   "outputs": [
    {
     "name": "stdout",
     "output_type": "stream",
     "text": [
      "Model: \"sequential_5\"\n",
      "_________________________________________________________________\n",
      "Layer (type)                 Output Shape              Param #   \n",
      "=================================================================\n",
      "flatten_5 (Flatten)          (None, 67500)             0         \n",
      "_________________________________________________________________\n",
      "dense_10 (Dense)             (None, 150)               10125150  \n",
      "_________________________________________________________________\n",
      "dense_11 (Dense)             (None, 1)                 151       \n",
      "=================================================================\n",
      "Total params: 10,125,301\n",
      "Trainable params: 10,125,301\n",
      "Non-trainable params: 0\n",
      "_________________________________________________________________\n"
     ]
    }
   ],
   "source": [
    "model.summary()"
   ]
  },
  {
   "cell_type": "markdown",
   "metadata": {},
   "source": [
    "### Train Model"
   ]
  },
  {
   "cell_type": "code",
   "execution_count": null,
   "metadata": {},
   "outputs": [
    {
     "name": "stdout",
     "output_type": "stream",
     "text": [
      "   5835/Unknown - 460s 79ms/step - loss: 0.8477 - acc: 0.6237"
     ]
    }
   ],
   "source": [
    "history = model.fit(train_generator, epochs=1)"
   ]
  },
  {
   "cell_type": "code",
   "execution_count": null,
   "metadata": {},
   "outputs": [],
   "source": []
  }
 ],
 "metadata": {
  "kernelspec": {
   "display_name": "Python 3",
   "language": "python",
   "name": "python3"
  },
  "language_info": {
   "codemirror_mode": {
    "name": "ipython",
    "version": 3
   },
   "file_extension": ".py",
   "mimetype": "text/x-python",
   "name": "python",
   "nbconvert_exporter": "python",
   "pygments_lexer": "ipython3",
   "version": "3.7.6"
  }
 },
 "nbformat": 4,
 "nbformat_minor": 4
}
