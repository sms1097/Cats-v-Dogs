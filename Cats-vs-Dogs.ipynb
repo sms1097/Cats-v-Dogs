{
 "cells": [
  {
   "cell_type": "markdown",
   "metadata": {},
   "source": [
    "# Training a CNN to Detect Cats and Dogs"
   ]
  },
  {
   "cell_type": "code",
   "execution_count": 1,
   "metadata": {},
   "outputs": [],
   "source": [
    "import numpy as np\n",
    "import matplotlib.pyplot as plt\n",
    "import tensorflow as tf\n",
    "import os"
   ]
  },
  {
   "cell_type": "markdown",
   "metadata": {},
   "source": [
    "### Create Directories to Store Data"
   ]
  },
  {
   "cell_type": "markdown",
   "metadata": {},
   "source": [
    "Here we can make our directories to store data and allow us to store data that will be labelled for training and testing directories. "
   ]
  },
  {
   "cell_type": "code",
   "execution_count": 5,
   "metadata": {},
   "outputs": [],
   "source": [
    "try:\n",
    "    base_dir = 'data'\n",
    "\n",
    "    os.mkdir(base_dir)\n",
    "    os.mkdir(base_dir + '/training')\n",
    "    os.mkdir(base_dir + '/testing')\n",
    "    os.mkdir(base_dir + '/training/cats')\n",
    "    os.mkdir(base_dir + '/training/dogs')\n",
    "    os.mkdir(base_dir + '/testing/cats')\n",
    "    os.mkdir(base_dir + '/testing/dogs')\n",
    "except FileExistsError:\n",
    "    pass"
   ]
  },
  {
   "cell_type": "markdown",
   "metadata": {},
   "source": [
    "### Create function to sperate data"
   ]
  },
  {
   "cell_type": "markdown",
   "metadata": {},
   "source": [
    "Split the data into training and testing directories to use tensorfow `flow_from_directory`. <br>\n",
    "This is a little case specific, so in the future I want to make this more robust for being able to dynamically have validation set, be able to use $c$ classes, detect if a directory is already full, ... (obviously there's a lot of room for improvement) "
   ]
  },
  {
   "cell_type": "code",
   "execution_count": 6,
   "metadata": {},
   "outputs": [],
   "source": [
    "import random\n",
    "from shutil import copyfile"
   ]
  },
  {
   "cell_type": "code",
   "execution_count": 7,
   "metadata": {},
   "outputs": [],
   "source": [
    "def split_data(base, training, testing, split_size=0.9):\n",
    "    def sort_cats_dogs(data):\n",
    "        dogs = []\n",
    "        cats = []\n",
    "        for datum in data:\n",
    "            if 'dog' in datum:\n",
    "                dogs.append(datum)\n",
    "\n",
    "            if 'cat' in datum:\n",
    "                cats.append(datum)\n",
    "                \n",
    "        return cats, dogs\n",
    "    \n",
    "    def fill_directories(data, training, testing, split_size):\n",
    "        train = random.sample(data, round(split_size * len(data)))\n",
    "        test = list(set(data) - set(train))\n",
    "        \n",
    "        for x in train:\n",
    "             copyfile(base + x, training + x)\n",
    "                \n",
    "        for x in test:\n",
    "             copyfile(base + x, testing + x)\n",
    "                \n",
    "            \n",
    "    # Get all files into array and get rid of files that are empty\n",
    "    data = [x for x in os.listdir(base) if os.path.getsize(base + x) > 0]\n",
    "    \n",
    "    # Split into cats and dogs\n",
    "    cats, dogs = sort_cats_dogs(data)\n",
    "    \n",
    "    # Fill directories\n",
    "    fill_directories(cats, training+'/cats/', testing+'/cats/', split_size)\n",
    "    fill_directories(dogs, training+'/dogs/', testing+'/dogs/', split_size)"
   ]
  },
  {
   "cell_type": "code",
   "execution_count": 8,
   "metadata": {},
   "outputs": [],
   "source": [
    "training = 'data/training'\n",
    "testing = 'data/testing'\n",
    "source = 'train/'\n",
    "\n",
    "split_data(source, training, testing)"
   ]
  },
  {
   "cell_type": "markdown",
   "metadata": {},
   "source": [
    "### Define ```ImageDataGenerator```"
   ]
  },
  {
   "cell_type": "markdown",
   "metadata": {},
   "source": [
    "Here we use Data Augmentation to see if we can get some more utility out of our data. With Neural Networks, it never hurts to get more."
   ]
  },
  {
   "cell_type": "code",
   "execution_count": 8,
   "metadata": {},
   "outputs": [],
   "source": [
    "from tensorflow.keras.preprocessing.image import ImageDataGenerator"
   ]
  },
  {
   "cell_type": "code",
   "execution_count": 9,
   "metadata": {
    "tags": []
   },
   "outputs": [
    {
     "name": "stdout",
     "output_type": "stream",
     "text": [
      "Found 22500 images belonging to 2 classes.\n",
      "Found 2500 images belonging to 2 classes.\n"
     ]
    }
   ],
   "source": [
    "training = 'data/training/'\n",
    "testing = 'data/testing/'\n",
    "\n",
    "train_datagen = ImageDataGenerator(\n",
    "    rescale=1./255,\n",
    "    horizontal_flip=True,\n",
    "    rotation_range=20,\n",
    "    width_shift_range=0.15,\n",
    "    height_shift_range=0.15,\n",
    "    fill_mode='wrap'\n",
    ")\n",
    "\n",
    "train_generator = train_datagen.flow_from_directory(\n",
    "    training,\n",
    "    target_size=(150,150),\n",
    "    batch_size=10,\n",
    "    class_mode='binary'\n",
    ")\n",
    "\n",
    "test_datagen = ImageDataGenerator(rescale=1./255)\n",
    "test_generator = test_datagen.flow_from_directory(\n",
    "    testing,\n",
    "    target_size=(150,150),\n",
    "    batch_size=10,\n",
    "    class_mode='binary'\n",
    ")"
   ]
  },
  {
   "cell_type": "markdown",
   "metadata": {},
   "source": [
    "### Define the CNN"
   ]
  },
  {
   "cell_type": "code",
   "execution_count": 10,
   "metadata": {},
   "outputs": [],
   "source": [
    "model = tf.keras.models.Sequential([\n",
    "    tf.keras.layers.Conv2D(16, (3,3), activation='relu', input_shape=(150,150,3)),\n",
    "    tf.keras.layers.MaxPooling2D(2,2),\n",
    "    tf.keras.layers.Conv2D(32, (3,3), activation='relu'),\n",
    "    tf.keras.layers.MaxPooling2D(2,2),\n",
    "    tf.keras.layers.Conv2D(64, (3,3), activation='relu'),\n",
    "    tf.keras.layers.MaxPooling2D(2,2),\n",
    "    tf.keras.layers.Conv2D(64, (3,3), activation='relu'),\n",
    "    tf.keras.layers.MaxPooling2D(2,2),\n",
    "    tf.keras.layers.Conv2D(64, (3,3), activation='relu'),\n",
    "    tf.keras.layers.MaxPooling2D(2,2),\n",
    "    tf.keras.layers.Flatten(input_shape=(150,150,3)),\n",
    "    tf.keras.layers.Dense(150, activation='relu'),\n",
    "    tf.keras.layers.Dense(1, activation='sigmoid')  # two classes, so same as softmax\n",
    "])\n",
    "\n",
    "model.compile(optimizer='adam', loss='binary_crossentropy', metrics=['acc'])"
   ]
  },
  {
   "cell_type": "code",
   "execution_count": 11,
   "metadata": {
    "tags": []
   },
   "outputs": [
    {
     "name": "stdout",
     "output_type": "stream",
     "text": [
      "Model: \"sequential\"\n",
      "_________________________________________________________________\n",
      "Layer (type)                 Output Shape              Param #   \n",
      "=================================================================\n",
      "conv2d (Conv2D)              (None, 148, 148, 16)      448       \n",
      "_________________________________________________________________\n",
      "max_pooling2d (MaxPooling2D) (None, 74, 74, 16)        0         \n",
      "_________________________________________________________________\n",
      "conv2d_1 (Conv2D)            (None, 72, 72, 32)        4640      \n",
      "_________________________________________________________________\n",
      "max_pooling2d_1 (MaxPooling2 (None, 36, 36, 32)        0         \n",
      "_________________________________________________________________\n",
      "conv2d_2 (Conv2D)            (None, 34, 34, 64)        18496     \n",
      "_________________________________________________________________\n",
      "max_pooling2d_2 (MaxPooling2 (None, 17, 17, 64)        0         \n",
      "_________________________________________________________________\n",
      "conv2d_3 (Conv2D)            (None, 15, 15, 64)        36928     \n",
      "_________________________________________________________________\n",
      "max_pooling2d_3 (MaxPooling2 (None, 7, 7, 64)          0         \n",
      "_________________________________________________________________\n",
      "conv2d_4 (Conv2D)            (None, 5, 5, 64)          36928     \n",
      "_________________________________________________________________\n",
      "max_pooling2d_4 (MaxPooling2 (None, 2, 2, 64)          0         \n",
      "_________________________________________________________________\n",
      "flatten (Flatten)            (None, 256)               0         \n",
      "_________________________________________________________________\n",
      "dense (Dense)                (None, 150)               38550     \n",
      "_________________________________________________________________\n",
      "dense_1 (Dense)              (None, 1)                 151       \n",
      "=================================================================\n",
      "Total params: 136,141\n",
      "Trainable params: 136,141\n",
      "Non-trainable params: 0\n",
      "_________________________________________________________________\n"
     ]
    }
   ],
   "source": [
    "model.summary()"
   ]
  },
  {
   "cell_type": "markdown",
   "metadata": {},
   "source": [
    "### Train Model"
   ]
  },
  {
   "cell_type": "markdown",
   "metadata": {},
   "source": [
    "This TensorFlow callback let's us use early stopping. In case our model has any "
   ]
  },
  {
   "cell_type": "code",
   "execution_count": 12,
   "metadata": {},
   "outputs": [],
   "source": [
    "class overfitCallback(tf.keras.callbacks.Callback):\n",
    "    def on_epoch_end(self, epoch, logs={}):\n",
    "        if logs['acc'] > 0.99:\n",
    "            print('Model may be starting to overfit so cancelling training')\n",
    "            self.model.stop_training = True"
   ]
  },
  {
   "cell_type": "code",
   "execution_count": 18,
   "metadata": {
    "tags": []
   },
   "outputs": [
    {
     "name": "stdout",
     "output_type": "stream",
     "text": [
      "Epoch 1/75\n",
      "2250/2250 [==============================] - 98s 44ms/step - loss: 0.6631 - acc: 0.5976\n",
      "Epoch 2/75\n",
      "2250/2250 [==============================] - 98s 44ms/step - loss: 0.6007 - acc: 0.6810\n",
      "Epoch 3/75\n",
      "2250/2250 [==============================] - 98s 44ms/step - loss: 0.5453 - acc: 0.7239\n",
      "Epoch 4/75\n",
      "2250/2250 [==============================] - 98s 44ms/step - loss: 0.4952 - acc: 0.7582\n",
      "Epoch 5/75\n",
      "2250/2250 [==============================] - 98s 44ms/step - loss: 0.4510 - acc: 0.7867\n",
      "Epoch 6/75\n",
      "2250/2250 [==============================] - 99s 44ms/step - loss: 0.4069 - acc: 0.8133\n",
      "Epoch 7/75\n",
      "2250/2250 [==============================] - 98s 44ms/step - loss: 0.3866 - acc: 0.8238\n",
      "Epoch 8/75\n",
      "2250/2250 [==============================] - 98s 44ms/step - loss: 0.3639 - acc: 0.8352\n",
      "Epoch 9/75\n",
      "2250/2250 [==============================] - 98s 44ms/step - loss: 0.3459 - acc: 0.8457\n",
      "Epoch 10/75\n",
      "2250/2250 [==============================] - 99s 44ms/step - loss: 0.3302 - acc: 0.8500\n",
      "Epoch 11/75\n",
      "2250/2250 [==============================] - 99s 44ms/step - loss: 0.3222 - acc: 0.8579\n",
      "Epoch 12/75\n",
      "2250/2250 [==============================] - 99s 44ms/step - loss: 0.3078 - acc: 0.8639\n",
      "Epoch 13/75\n",
      "2250/2250 [==============================] - 98s 44ms/step - loss: 0.3058 - acc: 0.8635\n",
      "Epoch 14/75\n",
      "2250/2250 [==============================] - 98s 44ms/step - loss: 0.2972 - acc: 0.8692\n",
      "Epoch 15/75\n",
      "2250/2250 [==============================] - 99s 44ms/step - loss: 0.2943 - acc: 0.8693\n",
      "Epoch 16/75\n",
      "2250/2250 [==============================] - 99s 44ms/step - loss: 0.2805 - acc: 0.8761\n",
      "Epoch 17/75\n",
      "2250/2250 [==============================] - 98s 44ms/step - loss: 0.2781 - acc: 0.8767\n",
      "Epoch 18/75\n",
      "2250/2250 [==============================] - 99s 44ms/step - loss: 0.2701 - acc: 0.8813\n",
      "Epoch 19/75\n",
      "2250/2250 [==============================] - 98s 44ms/step - loss: 0.2723 - acc: 0.8819\n",
      "Epoch 20/75\n",
      "2250/2250 [==============================] - 98s 44ms/step - loss: 0.2612 - acc: 0.8865\n",
      "Epoch 21/75\n",
      "2250/2250 [==============================] - 99s 44ms/step - loss: 0.2561 - acc: 0.8878\n",
      "Epoch 22/75\n",
      "2250/2250 [==============================] - 98s 44ms/step - loss: 0.2513 - acc: 0.8932\n",
      "Epoch 23/75\n",
      "2250/2250 [==============================] - 98s 44ms/step - loss: 0.2507 - acc: 0.8909\n",
      "Epoch 24/75\n",
      "2250/2250 [==============================] - 99s 44ms/step - loss: 0.2475 - acc: 0.8947\n",
      "Epoch 25/75\n",
      "2250/2250 [==============================] - 98s 44ms/step - loss: 0.2405 - acc: 0.8975\n",
      "Epoch 26/75\n",
      "2250/2250 [==============================] - 98s 44ms/step - loss: 0.2402 - acc: 0.8976\n",
      "Epoch 27/75\n",
      "2250/2250 [==============================] - 99s 44ms/step - loss: 0.2378 - acc: 0.8982\n",
      "Epoch 28/75\n",
      "2250/2250 [==============================] - 99s 44ms/step - loss: 0.2351 - acc: 0.8988\n",
      "Epoch 29/75\n",
      "2250/2250 [==============================] - 98s 44ms/step - loss: 0.2305 - acc: 0.9014\n",
      "Epoch 30/75\n",
      "2250/2250 [==============================] - 99s 44ms/step - loss: 0.2288 - acc: 0.9033\n",
      "Epoch 31/75\n",
      "2250/2250 [==============================] - 98s 44ms/step - loss: 0.2253 - acc: 0.9041\n",
      "Epoch 32/75\n",
      "2250/2250 [==============================] - 99s 44ms/step - loss: 0.2240 - acc: 0.9041\n",
      "Epoch 33/75\n",
      "2250/2250 [==============================] - 98s 44ms/step - loss: 0.2206 - acc: 0.9066\n",
      "Epoch 34/75\n",
      "2250/2250 [==============================] - 98s 44ms/step - loss: 0.2246 - acc: 0.9043\n",
      "Epoch 35/75\n",
      "2250/2250 [==============================] - 99s 44ms/step - loss: 0.2203 - acc: 0.9078\n",
      "Epoch 36/75\n",
      "2250/2250 [==============================] - 99s 44ms/step - loss: 0.2176 - acc: 0.9070\n",
      "Epoch 37/75\n",
      "2250/2250 [==============================] - 98s 44ms/step - loss: 0.2217 - acc: 0.9059\n",
      "Epoch 38/75\n",
      "2250/2250 [==============================] - 99s 44ms/step - loss: 0.2140 - acc: 0.9107\n",
      "Epoch 39/75\n",
      "2250/2250 [==============================] - 98s 44ms/step - loss: 0.2121 - acc: 0.9118\n",
      "Epoch 40/75\n",
      "2250/2250 [==============================] - 98s 44ms/step - loss: 0.2141 - acc: 0.9107\n",
      "Epoch 41/75\n",
      "2250/2250 [==============================] - 99s 44ms/step - loss: 0.2086 - acc: 0.9135\n",
      "Epoch 42/75\n",
      "2250/2250 [==============================] - 98s 44ms/step - loss: 0.2069 - acc: 0.9125\n",
      "Epoch 43/75\n",
      "2250/2250 [==============================] - 99s 44ms/step - loss: 0.2057 - acc: 0.9137\n",
      "Epoch 44/75\n",
      "2250/2250 [==============================] - 99s 44ms/step - loss: 0.2050 - acc: 0.9134\n",
      "Epoch 45/75\n",
      "2250/2250 [==============================] - 99s 44ms/step - loss: 0.2082 - acc: 0.9119\n",
      "Epoch 46/75\n",
      "2250/2250 [==============================] - 98s 44ms/step - loss: 0.2062 - acc: 0.9140\n",
      "Epoch 47/75\n",
      "2250/2250 [==============================] - 99s 44ms/step - loss: 0.2035 - acc: 0.9153\n",
      "Epoch 48/75\n",
      "2250/2250 [==============================] - 98s 44ms/step - loss: 0.2003 - acc: 0.9167\n",
      "Epoch 49/75\n",
      "2250/2250 [==============================] - 98s 44ms/step - loss: 0.1992 - acc: 0.9178\n",
      "Epoch 50/75\n",
      "2250/2250 [==============================] - 98s 44ms/step - loss: 0.1974 - acc: 0.9157\n",
      "Epoch 51/75\n",
      "2250/2250 [==============================] - 98s 44ms/step - loss: 0.1944 - acc: 0.9177\n",
      "Epoch 52/75\n",
      "2250/2250 [==============================] - 98s 44ms/step - loss: 0.1975 - acc: 0.9185\n",
      "Epoch 53/75\n",
      "2250/2250 [==============================] - 98s 44ms/step - loss: 0.1936 - acc: 0.9185\n",
      "Epoch 54/75\n",
      "2250/2250 [==============================] - 98s 44ms/step - loss: 0.1949 - acc: 0.9181\n",
      "Epoch 55/75\n",
      "2250/2250 [==============================] - 98s 44ms/step - loss: 0.1961 - acc: 0.9200\n",
      "Epoch 56/75\n",
      "2250/2250 [==============================] - 99s 44ms/step - loss: 0.1971 - acc: 0.9181\n",
      "Epoch 57/75\n",
      "2250/2250 [==============================] - 98s 44ms/step - loss: 0.1904 - acc: 0.9194\n",
      "Epoch 58/75\n",
      "2250/2250 [==============================] - 98s 44ms/step - loss: 0.1928 - acc: 0.9202\n",
      "Epoch 59/75\n",
      "2250/2250 [==============================] - 98s 44ms/step - loss: 0.1914 - acc: 0.9218\n",
      "Epoch 60/75\n",
      "2250/2250 [==============================] - 98s 43ms/step - loss: 0.1898 - acc: 0.9205\n",
      "Epoch 61/75\n",
      "2250/2250 [==============================] - 98s 44ms/step - loss: 0.1926 - acc: 0.9217\n",
      "Epoch 62/75\n",
      "2250/2250 [==============================] - 98s 44ms/step - loss: 0.1841 - acc: 0.9239\n",
      "Epoch 63/75\n",
      "2250/2250 [==============================] - 99s 44ms/step - loss: 0.1856 - acc: 0.9232\n",
      "Epoch 64/75\n",
      "2250/2250 [==============================] - 99s 44ms/step - loss: 0.1838 - acc: 0.9244\n",
      "Epoch 65/75\n",
      "2250/2250 [==============================] - 98s 44ms/step - loss: 0.1945 - acc: 0.9210\n",
      "Epoch 66/75\n",
      "2250/2250 [==============================] - 98s 44ms/step - loss: 0.1859 - acc: 0.9243\n",
      "Epoch 67/75\n",
      "2250/2250 [==============================] - 98s 44ms/step - loss: 0.1855 - acc: 0.9238\n",
      "Epoch 68/75\n",
      "2250/2250 [==============================] - 98s 44ms/step - loss: 0.1818 - acc: 0.9255\n",
      "Epoch 69/75\n",
      "2250/2250 [==============================] - 99s 44ms/step - loss: 0.1872 - acc: 0.9222\n",
      "Epoch 70/75\n",
      "2250/2250 [==============================] - 98s 44ms/step - loss: 0.1796 - acc: 0.9259\n",
      "Epoch 71/75\n",
      "2250/2250 [==============================] - 98s 44ms/step - loss: 0.1834 - acc: 0.9235\n",
      "Epoch 72/75\n",
      "2250/2250 [==============================] - 98s 44ms/step - loss: 0.1832 - acc: 0.9240\n",
      "Epoch 73/75\n",
      "2250/2250 [==============================] - 98s 44ms/step - loss: 0.1765 - acc: 0.9262\n",
      "Epoch 74/75\n",
      "2250/2250 [==============================] - 98s 44ms/step - loss: 0.1926 - acc: 0.9211\n",
      "Epoch 75/75\n",
      "2250/2250 [==============================] - 98s 44ms/step - loss: 0.1779 - acc: 0.9272\n"
     ]
    }
   ],
   "source": [
    "callback = overfitCallback()\n",
    "history = model.fit(train_generator, \n",
    "                    callbacks=[callback],\n",
    "                    epochs=75)"
   ]
  },
  {
   "cell_type": "code",
   "execution_count": 19,
   "metadata": {},
   "outputs": [
    {
     "name": "stdout",
     "output_type": "stream",
     "text": [
      "250/250 [==============================] - 5s 19ms/step - loss: 0.1610 - acc: 0.9388\n"
     ]
    },
    {
     "data": {
      "text/plain": [
       "[0.16101577877998352, 0.9387999773025513]"
      ]
     },
     "execution_count": 19,
     "metadata": {},
     "output_type": "execute_result"
    }
   ],
   "source": [
    "model.evaluate(test_generator)"
   ]
  },
  {
   "cell_type": "markdown",
   "metadata": {},
   "source": [
    "Just about 94% accuracy! And it seems the model has pretty clearly converged. "
   ]
  }
 ],
 "metadata": {
  "kernelspec": {
   "display_name": "Python 3",
   "language": "python",
   "name": "python3"
  },
  "language_info": {
   "codemirror_mode": {
    "name": "ipython",
    "version": 3
   },
   "file_extension": ".py",
   "mimetype": "text/x-python",
   "name": "python",
   "nbconvert_exporter": "python",
   "pygments_lexer": "ipython3",
   "version": "3.6.9"
  }
 },
 "nbformat": 4,
 "nbformat_minor": 4
}
